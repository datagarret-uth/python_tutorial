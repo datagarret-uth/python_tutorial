{
 "cells": [
  {
   "cell_type": "markdown",
   "id": "15e50bf8",
   "metadata": {},
   "source": [
    "# SciPy: Numpy, Scipy and Pandas"
   ]
  },
  {
   "cell_type": "code",
   "execution_count": 12,
   "id": "94dd9fc8",
   "metadata": {},
   "outputs": [],
   "source": [
    "import numpy as np\n",
    "import pandas as pd"
   ]
  },
  {
   "cell_type": "markdown",
   "id": "3153c0d9",
   "metadata": {},
   "source": [
    "### Numpy Arrays"
   ]
  },
  {
   "cell_type": "code",
   "execution_count": 13,
   "id": "7ce39c60",
   "metadata": {},
   "outputs": [
    {
     "data": {
      "text/plain": [
       "array([0, 1, 2, 3, 4, 5, 6, 7, 8, 9])"
      ]
     },
     "execution_count": 13,
     "metadata": {},
     "output_type": "execute_result"
    }
   ],
   "source": [
    "np_array = np.arange(10)\n",
    "np_array"
   ]
  },
  {
   "cell_type": "code",
   "execution_count": 14,
   "id": "2ea5e3b1",
   "metadata": {},
   "outputs": [
    {
     "data": {
      "text/plain": [
       "array([  0,   1,   8,  27,  64, 125, 216, 343, 512, 729], dtype=int32)"
      ]
     },
     "execution_count": 14,
     "metadata": {},
     "output_type": "execute_result"
    }
   ],
   "source": [
    "np_array**3"
   ]
  },
  {
   "cell_type": "code",
   "execution_count": 15,
   "id": "21e7f9c4",
   "metadata": {},
   "outputs": [
    {
     "data": {
      "text/plain": [
       "array([0, 0, 0, 0, 0, 0, 0, 0, 0, 0])"
      ]
     },
     "execution_count": 15,
     "metadata": {},
     "output_type": "execute_result"
    }
   ],
   "source": [
    "np.arange(10) - np.arange(10)"
   ]
  },
  {
   "cell_type": "code",
   "execution_count": 16,
   "id": "ba3fa829",
   "metadata": {},
   "outputs": [
    {
     "data": {
      "text/plain": [
       "10"
      ]
     },
     "execution_count": 16,
     "metadata": {},
     "output_type": "execute_result"
    }
   ],
   "source": [
    "len(np_array)"
   ]
  },
  {
   "cell_type": "code",
   "execution_count": 17,
   "id": "efa476f2",
   "metadata": {},
   "outputs": [
    {
     "data": {
      "text/plain": [
       "array([[ 0,  1,  2,  3,  4,  5,  6,  7,  8,  9],\n",
       "       [10, 11, 12, 13, 14, 15, 16, 17, 18, 19],\n",
       "       [20, 21, 22, 23, 24, 25, 26, 27, 28, 29],\n",
       "       [30, 31, 32, 33, 34, 35, 36, 37, 38, 39],\n",
       "       [40, 41, 42, 43, 44, 45, 46, 47, 48, 49],\n",
       "       [50, 51, 52, 53, 54, 55, 56, 57, 58, 59],\n",
       "       [60, 61, 62, 63, 64, 65, 66, 67, 68, 69],\n",
       "       [70, 71, 72, 73, 74, 75, 76, 77, 78, 79],\n",
       "       [80, 81, 82, 83, 84, 85, 86, 87, 88, 89],\n",
       "       [90, 91, 92, 93, 94, 95, 96, 97, 98, 99]])"
      ]
     },
     "execution_count": 17,
     "metadata": {},
     "output_type": "execute_result"
    }
   ],
   "source": [
    "np_array = np.arange(100)\n",
    "tmp = np_array.reshape(10,10)\n",
    "tmp"
   ]
  },
  {
   "cell_type": "code",
   "execution_count": 18,
   "id": "58863131",
   "metadata": {},
   "outputs": [
    {
     "data": {
      "text/plain": [
       "array([[ 0, 10, 20, 30, 40, 50, 60, 70, 80, 90],\n",
       "       [ 1, 11, 21, 31, 41, 51, 61, 71, 81, 91],\n",
       "       [ 2, 12, 22, 32, 42, 52, 62, 72, 82, 92],\n",
       "       [ 3, 13, 23, 33, 43, 53, 63, 73, 83, 93],\n",
       "       [ 4, 14, 24, 34, 44, 54, 64, 74, 84, 94],\n",
       "       [ 5, 15, 25, 35, 45, 55, 65, 75, 85, 95],\n",
       "       [ 6, 16, 26, 36, 46, 56, 66, 76, 86, 96],\n",
       "       [ 7, 17, 27, 37, 47, 57, 67, 77, 87, 97],\n",
       "       [ 8, 18, 28, 38, 48, 58, 68, 78, 88, 98],\n",
       "       [ 9, 19, 29, 39, 49, 59, 69, 79, 89, 99]])"
      ]
     },
     "execution_count": 18,
     "metadata": {},
     "output_type": "execute_result"
    }
   ],
   "source": [
    "tmp.T"
   ]
  },
  {
   "cell_type": "code",
   "execution_count": 19,
   "id": "d7bd13f8",
   "metadata": {},
   "outputs": [
    {
     "name": "stdout",
     "output_type": "stream",
     "text": [
      "[0 1 2 3 4 5 6 7 8 9]\n",
      "89\n"
     ]
    }
   ],
   "source": [
    "print(tmp[0])\n",
    "print(tmp[8,9])"
   ]
  },
  {
   "cell_type": "code",
   "execution_count": 20,
   "id": "abca6b21",
   "metadata": {},
   "outputs": [
    {
     "data": {
      "text/plain": [
       "4950"
      ]
     },
     "execution_count": 20,
     "metadata": {},
     "output_type": "execute_result"
    }
   ],
   "source": [
    "tmp.sum()"
   ]
  },
  {
   "cell_type": "code",
   "execution_count": 21,
   "id": "d9174ff3",
   "metadata": {},
   "outputs": [
    {
     "data": {
      "text/plain": [
       "array([ 45, 145, 245, 345, 445, 545, 645, 745, 845, 945])"
      ]
     },
     "execution_count": 21,
     "metadata": {},
     "output_type": "execute_result"
    }
   ],
   "source": [
    "tmp.sum(axis=1)"
   ]
  },
  {
   "cell_type": "markdown",
   "id": "c707dc13",
   "metadata": {},
   "source": [
    "## Basic plotting"
   ]
  },
  {
   "cell_type": "code",
   "execution_count": 69,
   "id": "c37af8d2",
   "metadata": {},
   "outputs": [
    {
     "data": {
      "text/plain": [
       "-0.6246321944933578"
      ]
     },
     "execution_count": 69,
     "metadata": {},
     "output_type": "execute_result"
    }
   ],
   "source": [
    "import matplotlib.pyplot as plt\n",
    "%matplotlib inline\n",
    "\n",
    "random_sample = np.random.normal(size=500)\n",
    "random_sample[0]\n",
    "\n"
   ]
  },
  {
   "cell_type": "code",
   "execution_count": 70,
   "id": "561f1695",
   "metadata": {},
   "outputs": [
    {
     "data": {
      "image/png": "[encoded data removed]",
      "text/plain": [
       "<Figure size 432x288 with 1 Axes>"
      ]
     },
     "metadata": {
      "needs_background": "light"
     },
     "output_type": "display_data"
    }
   ],
   "source": [
    "plt.hist(random_sample);"
   ]
  },
  {
   "cell_type": "code",
   "execution_count": 71,
   "id": "60ce5aef",
   "metadata": {},
   "outputs": [
    {
     "data": {
      "text/plain": [
       "0.007589437931335269"
      ]
     },
     "execution_count": 71,
     "metadata": {},
     "output_type": "execute_result"
    }
   ],
   "source": [
    "np.median(random_sample)"
   ]
  },
  {
   "cell_type": "code",
   "execution_count": 72,
   "id": "36b7be5d",
   "metadata": {},
   "outputs": [
    {
     "data": {
      "text/plain": [
       "-0.02265192245852814"
      ]
     },
     "execution_count": 72,
     "metadata": {},
     "output_type": "execute_result"
    }
   ],
   "source": [
    "random_sample.mean()"
   ]
  },
  {
   "cell_type": "markdown",
   "id": "8daaffbf",
   "metadata": {},
   "source": [
    "# Pandas"
   ]
  },
  {
   "cell_type": "code",
   "execution_count": 26,
   "id": "5b76794d",
   "metadata": {},
   "outputs": [],
   "source": [
    "#read csv"
   ]
  },
  {
   "cell_type": "code",
   "execution_count": 28,
   "id": "b6dc780a",
   "metadata": {},
   "outputs": [
    {
     "data": {
      "text/html": [
       "<div>\n",
       "<style scoped>\n",
       "    .dataframe tbody tr th:only-of-type {\n",
       "        vertical-align: middle;\n",
       "    }\n",
       "\n",
       "    .dataframe tbody tr th {\n",
       "        vertical-align: top;\n",
       "    }\n",
       "\n",
       "    .dataframe thead th {\n",
       "        text-align: right;\n",
       "    }\n",
       "</style>\n",
       "<table border=\"1\" class=\"dataframe\">\n",
       "  <thead>\n",
       "    <tr style=\"text-align: right;\">\n",
       "      <th></th>\n",
       "      <th>icd_type</th>\n",
       "      <th>diag_code</th>\n",
       "    </tr>\n",
       "  </thead>\n",
       "  <tbody>\n",
       "    <tr>\n",
       "      <th>0</th>\n",
       "      <td>9</td>\n",
       "      <td>41000</td>\n",
       "    </tr>\n",
       "    <tr>\n",
       "      <th>1</th>\n",
       "      <td>9</td>\n",
       "      <td>41001</td>\n",
       "    </tr>\n",
       "    <tr>\n",
       "      <th>2</th>\n",
       "      <td>9</td>\n",
       "      <td>41010</td>\n",
       "    </tr>\n",
       "    <tr>\n",
       "      <th>3</th>\n",
       "      <td>9</td>\n",
       "      <td>41011</td>\n",
       "    </tr>\n",
       "    <tr>\n",
       "      <th>4</th>\n",
       "      <td>9</td>\n",
       "      <td>41020</td>\n",
       "    </tr>\n",
       "  </tbody>\n",
       "</table>\n",
       "</div>"
      ],
      "text/plain": [
       "   icd_type diag_code\n",
       "0         9     41000\n",
       "1         9     41001\n",
       "2         9     41010\n",
       "3         9     41011\n",
       "4         9     41020"
      ]
     },
     "execution_count": 28,
     "metadata": {},
     "output_type": "execute_result"
    }
   ],
   "source": [
    "ami_icd_df = pd.read_csv('./ami_icd_codes.csv')\n",
    "ami_icd_df.head()"
   ]
  },
  {
   "cell_type": "code",
   "execution_count": 29,
   "id": "0be79da3",
   "metadata": {},
   "outputs": [
    {
     "data": {
      "text/plain": [
       "Index(['icd_type', 'diag_code'], dtype='object')"
      ]
     },
     "execution_count": 29,
     "metadata": {},
     "output_type": "execute_result"
    }
   ],
   "source": [
    "ami_icd_df.columns"
   ]
  },
  {
   "cell_type": "code",
   "execution_count": 73,
   "id": "6519813c",
   "metadata": {},
   "outputs": [
    {
     "data": {
      "text/plain": [
       "0    41000\n",
       "1    41001\n",
       "2    41010\n",
       "3    41011\n",
       "4    41020\n",
       "Name: diag_code, dtype: object"
      ]
     },
     "execution_count": 73,
     "metadata": {},
     "output_type": "execute_result"
    }
   ],
   "source": [
    "#column select\n",
    "ami_icd_df['diag_code'].head()"
   ]
  },
  {
   "cell_type": "code",
   "execution_count": 48,
   "id": "f98e134e",
   "metadata": {},
   "outputs": [
    {
     "data": {
      "text/plain": [
       "0      True\n",
       "1     False\n",
       "2     False\n",
       "3     False\n",
       "4     False\n",
       "5     False\n",
       "6     False\n",
       "7     False\n",
       "8     False\n",
       "9     False\n",
       "10    False\n",
       "11    False\n",
       "12    False\n",
       "13    False\n",
       "14    False\n",
       "15    False\n",
       "16    False\n",
       "17    False\n",
       "18    False\n",
       "19    False\n",
       "20    False\n",
       "21    False\n",
       "22    False\n",
       "23    False\n",
       "24    False\n",
       "25    False\n",
       "26    False\n",
       "27    False\n",
       "28    False\n",
       "29    False\n",
       "30    False\n",
       "31    False\n",
       "Name: diag_code, dtype: bool"
      ]
     },
     "execution_count": 48,
     "metadata": {},
     "output_type": "execute_result"
    }
   ],
   "source": [
    "ami_icd_df['diag_code']=='41000'"
   ]
  },
  {
   "cell_type": "code",
   "execution_count": 49,
   "id": "d6c2ce18",
   "metadata": {},
   "outputs": [
    {
     "data": {
      "text/html": [
       "<div>\n",
       "<style scoped>\n",
       "    .dataframe tbody tr th:only-of-type {\n",
       "        vertical-align: middle;\n",
       "    }\n",
       "\n",
       "    .dataframe tbody tr th {\n",
       "        vertical-align: top;\n",
       "    }\n",
       "\n",
       "    .dataframe thead th {\n",
       "        text-align: right;\n",
       "    }\n",
       "</style>\n",
       "<table border=\"1\" class=\"dataframe\">\n",
       "  <thead>\n",
       "    <tr style=\"text-align: right;\">\n",
       "      <th></th>\n",
       "      <th>icd_type</th>\n",
       "      <th>diag_code</th>\n",
       "    </tr>\n",
       "  </thead>\n",
       "  <tbody>\n",
       "    <tr>\n",
       "      <th>0</th>\n",
       "      <td>9</td>\n",
       "      <td>41000</td>\n",
       "    </tr>\n",
       "  </tbody>\n",
       "</table>\n",
       "</div>"
      ],
      "text/plain": [
       "   icd_type diag_code\n",
       "0         9     41000"
      ]
     },
     "execution_count": 49,
     "metadata": {},
     "output_type": "execute_result"
    }
   ],
   "source": [
    "ami_icd_df.loc[ami_icd_df['diag_code']=='41000']"
   ]
  },
  {
   "cell_type": "markdown",
   "id": "593220d4",
   "metadata": {},
   "source": [
    "### finding unique values in a column\n",
    "\n",
    "unique and nunique"
   ]
  },
  {
   "cell_type": "code",
   "execution_count": 58,
   "id": "4fde83f8",
   "metadata": {},
   "outputs": [
    {
     "data": {
      "text/plain": [
       "array([ 9, 10], dtype=int64)"
      ]
     },
     "execution_count": 58,
     "metadata": {},
     "output_type": "execute_result"
    }
   ],
   "source": [
    "ami_icd_df['icd_type'].unique()"
   ]
  },
  {
   "cell_type": "code",
   "execution_count": 57,
   "id": "c65421f2",
   "metadata": {},
   "outputs": [
    {
     "data": {
      "text/plain": [
       "2"
      ]
     },
     "execution_count": 57,
     "metadata": {},
     "output_type": "execute_result"
    }
   ],
   "source": [
    "ami_icd_df['icd_type'].nunique()"
   ]
  },
  {
   "cell_type": "code",
   "execution_count": 60,
   "id": "b3412168",
   "metadata": {},
   "outputs": [
    {
     "data": {
      "text/plain": [
       "32"
      ]
     },
     "execution_count": 60,
     "metadata": {},
     "output_type": "execute_result"
    }
   ],
   "source": [
    "ami_icd_df['diag_code'].nunique()"
   ]
  },
  {
   "cell_type": "markdown",
   "id": "a2b78675",
   "metadata": {},
   "source": [
    "### Intro to group by"
   ]
  },
  {
   "cell_type": "code",
   "execution_count": 78,
   "id": "20229de9",
   "metadata": {},
   "outputs": [
    {
     "data": {
      "text/html": [
       "<div>\n",
       "<style scoped>\n",
       "    .dataframe tbody tr th:only-of-type {\n",
       "        vertical-align: middle;\n",
       "    }\n",
       "\n",
       "    .dataframe tbody tr th {\n",
       "        vertical-align: top;\n",
       "    }\n",
       "\n",
       "    .dataframe thead th {\n",
       "        text-align: right;\n",
       "    }\n",
       "</style>\n",
       "<table border=\"1\" class=\"dataframe\">\n",
       "  <thead>\n",
       "    <tr style=\"text-align: right;\">\n",
       "      <th></th>\n",
       "      <th>diag_code</th>\n",
       "    </tr>\n",
       "    <tr>\n",
       "      <th>icd_type</th>\n",
       "      <th></th>\n",
       "    </tr>\n",
       "  </thead>\n",
       "  <tbody>\n",
       "    <tr>\n",
       "      <th>9</th>\n",
       "      <td>20</td>\n",
       "    </tr>\n",
       "    <tr>\n",
       "      <th>10</th>\n",
       "      <td>12</td>\n",
       "    </tr>\n",
       "  </tbody>\n",
       "</table>\n",
       "</div>"
      ],
      "text/plain": [
       "          diag_code\n",
       "icd_type           \n",
       "9                20\n",
       "10               12"
      ]
     },
     "execution_count": 78,
     "metadata": {},
     "output_type": "execute_result"
    }
   ],
   "source": [
    "ami_icd_df.groupby(['icd_type']).count()"
   ]
  },
  {
   "cell_type": "markdown",
   "id": "0db19d77",
   "metadata": {},
   "source": [
    "## Database Connections\n",
    "\n",
    "to perform secure connections to database use the ODBC Data Source Administrator"
   ]
  },
  {
   "cell_type": "code",
   "execution_count": 74,
   "id": "2f7b4daa",
   "metadata": {},
   "outputs": [],
   "source": [
    "#database connection\n",
    "import pyodbc\n",
    "con = pyodbc.connect('DSN=PostgreSQL35W')"
   ]
  },
  {
   "cell_type": "code",
   "execution_count": 82,
   "id": "97e44e4c",
   "metadata": {},
   "outputs": [],
   "source": [
    "sql_query = '''select * from dev.gm_distinct_values;'''\n",
    "distinct_codes_df = pd.read_sql(sql_query, con=con)"
   ]
  },
  {
   "cell_type": "code",
   "execution_count": 83,
   "id": "e5c5000a",
   "metadata": {},
   "outputs": [
    {
     "data": {
      "text/plain": [
       "(357429, 6)"
      ]
     },
     "execution_count": 83,
     "metadata": {},
     "output_type": "execute_result"
    }
   ],
   "source": [
    "distinct_codes_df.shape"
   ]
  },
  {
   "cell_type": "code",
   "execution_count": 84,
   "id": "05728fd6",
   "metadata": {},
   "outputs": [
    {
     "data": {
      "text/html": [
       "<div>\n",
       "<style scoped>\n",
       "    .dataframe tbody tr th:only-of-type {\n",
       "        vertical-align: middle;\n",
       "    }\n",
       "\n",
       "    .dataframe tbody tr th {\n",
       "        vertical-align: top;\n",
       "    }\n",
       "\n",
       "    .dataframe thead th {\n",
       "        text-align: right;\n",
       "    }\n",
       "</style>\n",
       "<table border=\"1\" class=\"dataframe\">\n",
       "  <thead>\n",
       "    <tr style=\"text-align: right;\">\n",
       "      <th></th>\n",
       "      <th>database_name</th>\n",
       "      <th>table_name</th>\n",
       "      <th>column_name</th>\n",
       "      <th>column_values</th>\n",
       "      <th>column_count</th>\n",
       "      <th>import_date</th>\n",
       "    </tr>\n",
       "  </thead>\n",
       "  <tbody>\n",
       "    <tr>\n",
       "      <th>0</th>\n",
       "      <td>data_warehouse</td>\n",
       "      <td>admission</td>\n",
       "      <td>discharge_status</td>\n",
       "      <td>93</td>\n",
       "      <td>769</td>\n",
       "      <td>2021-10-18 15:46:57.358080</td>\n",
       "    </tr>\n",
       "    <tr>\n",
       "      <th>1</th>\n",
       "      <td>data_warehouse</td>\n",
       "      <td>claim_detail</td>\n",
       "      <td>year</td>\n",
       "      <td>2002</td>\n",
       "      <td>112</td>\n",
       "      <td>2021-10-18 15:46:58.419070</td>\n",
       "    </tr>\n",
       "    <tr>\n",
       "      <th>2</th>\n",
       "      <td>data_warehouse</td>\n",
       "      <td>claim_detail</td>\n",
       "      <td>year</td>\n",
       "      <td>2009</td>\n",
       "      <td>778525624</td>\n",
       "      <td>2021-10-18 15:46:58.419070</td>\n",
       "    </tr>\n",
       "    <tr>\n",
       "      <th>3</th>\n",
       "      <td>data_warehouse</td>\n",
       "      <td>claim_detail</td>\n",
       "      <td>place_of_service</td>\n",
       "      <td></td>\n",
       "      <td>163922</td>\n",
       "      <td>2021-10-18 15:48:38.169243</td>\n",
       "    </tr>\n",
       "    <tr>\n",
       "      <th>4</th>\n",
       "      <td>data_warehouse</td>\n",
       "      <td>claim_detail</td>\n",
       "      <td>place_of_service</td>\n",
       "      <td>63</td>\n",
       "      <td>5703</td>\n",
       "      <td>2021-10-18 15:48:38.169243</td>\n",
       "    </tr>\n",
       "  </tbody>\n",
       "</table>\n",
       "</div>"
      ],
      "text/plain": [
       "    database_name    table_name       column_name column_values  column_count  \\\n",
       "0  data_warehouse     admission  discharge_status            93           769   \n",
       "1  data_warehouse  claim_detail              year          2002           112   \n",
       "2  data_warehouse  claim_detail              year          2009     778525624   \n",
       "3  data_warehouse  claim_detail  place_of_service                      163922   \n",
       "4  data_warehouse  claim_detail  place_of_service            63          5703   \n",
       "\n",
       "                 import_date  \n",
       "0 2021-10-18 15:46:57.358080  \n",
       "1 2021-10-18 15:46:58.419070  \n",
       "2 2021-10-18 15:46:58.419070  \n",
       "3 2021-10-18 15:48:38.169243  \n",
       "4 2021-10-18 15:48:38.169243  "
      ]
     },
     "execution_count": 84,
     "metadata": {},
     "output_type": "execute_result"
    }
   ],
   "source": [
    "distinct_codes_df.head()"
   ]
  },
  {
   "cell_type": "code",
   "execution_count": 85,
   "id": "8a334d53",
   "metadata": {},
   "outputs": [],
   "source": [
    "distinct_codes_df = distinct_codes_df.sort_values(['table_name','column_values'])"
   ]
  },
  {
   "cell_type": "code",
   "execution_count": 86,
   "id": "5cbcaaf3",
   "metadata": {},
   "outputs": [
    {
     "data": {
      "text/plain": [
       "18658   2021-10-21 20:01:30.218340\n",
       "19891   2021-10-18 15:46:57.358080\n",
       "3677    2021-10-18 15:46:57.358080\n",
       "18657   2021-10-21 20:01:30.218340\n",
       "6651    2021-10-21 20:01:30.218340\n",
       "                   ...            \n",
       "3193    2021-10-18 20:39:18.417156\n",
       "18118   2021-10-18 20:39:18.417156\n",
       "7847    2021-10-18 20:40:25.677771\n",
       "15866   2021-10-18 20:41:21.906182\n",
       "16507   2021-10-18 20:42:18.457989\n",
       "Name: import_date, Length: 357429, dtype: datetime64[ns]"
      ]
     },
     "execution_count": 86,
     "metadata": {},
     "output_type": "execute_result"
    }
   ],
   "source": [
    "#pandas handles datetimes\n",
    "distinct_codes_df['import_date']"
   ]
  },
  {
   "cell_type": "code",
   "execution_count": 87,
   "id": "7f7415a8",
   "metadata": {},
   "outputs": [
    {
     "data": {
      "text/html": [
       "<div>\n",
       "<style scoped>\n",
       "    .dataframe tbody tr th:only-of-type {\n",
       "        vertical-align: middle;\n",
       "    }\n",
       "\n",
       "    .dataframe tbody tr th {\n",
       "        vertical-align: top;\n",
       "    }\n",
       "\n",
       "    .dataframe thead th {\n",
       "        text-align: right;\n",
       "    }\n",
       "</style>\n",
       "<table border=\"1\" class=\"dataframe\">\n",
       "  <thead>\n",
       "    <tr style=\"text-align: right;\">\n",
       "      <th></th>\n",
       "      <th>database_name</th>\n",
       "      <th>table_name</th>\n",
       "      <th>column_name</th>\n",
       "      <th>column_values</th>\n",
       "      <th>column_count</th>\n",
       "      <th>import_date</th>\n",
       "    </tr>\n",
       "  </thead>\n",
       "  <tbody>\n",
       "    <tr>\n",
       "      <th>19891</th>\n",
       "      <td>data_warehouse</td>\n",
       "      <td>admission</td>\n",
       "      <td>discharge_status</td>\n",
       "      <td>00</td>\n",
       "      <td>1112507</td>\n",
       "      <td>2021-10-18 15:46:57.358080</td>\n",
       "    </tr>\n",
       "    <tr>\n",
       "      <th>18657</th>\n",
       "      <td>data_warehouse</td>\n",
       "      <td>admission</td>\n",
       "      <td>discharge_status</td>\n",
       "      <td>01</td>\n",
       "      <td>27920450</td>\n",
       "      <td>2021-10-21 20:01:30.218340</td>\n",
       "    </tr>\n",
       "    <tr>\n",
       "      <th>18490</th>\n",
       "      <td>data_warehouse</td>\n",
       "      <td>admission</td>\n",
       "      <td>discharge_status</td>\n",
       "      <td>02</td>\n",
       "      <td>1666891</td>\n",
       "      <td>2021-10-18 15:46:57.358080</td>\n",
       "    </tr>\n",
       "    <tr>\n",
       "      <th>14603</th>\n",
       "      <td>data_warehouse</td>\n",
       "      <td>admission</td>\n",
       "      <td>discharge_status</td>\n",
       "      <td>03</td>\n",
       "      <td>3756358</td>\n",
       "      <td>2021-10-18 15:46:57.358080</td>\n",
       "    </tr>\n",
       "    <tr>\n",
       "      <th>14657</th>\n",
       "      <td>data_warehouse</td>\n",
       "      <td>admission</td>\n",
       "      <td>discharge_status</td>\n",
       "      <td>04</td>\n",
       "      <td>233336</td>\n",
       "      <td>2021-10-21 20:01:30.218340</td>\n",
       "    </tr>\n",
       "    <tr>\n",
       "      <th>...</th>\n",
       "      <td>...</td>\n",
       "      <td>...</td>\n",
       "      <td>...</td>\n",
       "      <td>...</td>\n",
       "      <td>...</td>\n",
       "      <td>...</td>\n",
       "    </tr>\n",
       "    <tr>\n",
       "      <th>19407</th>\n",
       "      <td>data_warehouse</td>\n",
       "      <td>medicaid_program_enrollment</td>\n",
       "      <td>mco_id</td>\n",
       "      <td>None</td>\n",
       "      <td>79085526</td>\n",
       "      <td>2021-10-18 16:17:14.995034</td>\n",
       "    </tr>\n",
       "    <tr>\n",
       "      <th>20059</th>\n",
       "      <td>data_warehouse</td>\n",
       "      <td>medicaid_program_enrollment</td>\n",
       "      <td>me_sd</td>\n",
       "      <td>None</td>\n",
       "      <td>79085526</td>\n",
       "      <td>2021-10-18 16:17:09.430261</td>\n",
       "    </tr>\n",
       "    <tr>\n",
       "      <th>19526</th>\n",
       "      <td>data_warehouse</td>\n",
       "      <td>member_enrollment_yearly</td>\n",
       "      <td>rx_coverage</td>\n",
       "      <td>0</td>\n",
       "      <td>75720929</td>\n",
       "      <td>2021-10-18 16:26:01.366432</td>\n",
       "    </tr>\n",
       "    <tr>\n",
       "      <th>4292</th>\n",
       "      <td>data_warehouse</td>\n",
       "      <td>member_enrollment_yearly</td>\n",
       "      <td>rx_coverage</td>\n",
       "      <td>1</td>\n",
       "      <td>954438465</td>\n",
       "      <td>2021-10-18 16:24:00.762940</td>\n",
       "    </tr>\n",
       "    <tr>\n",
       "      <th>15525</th>\n",
       "      <td>data_warehouse</td>\n",
       "      <td>member_enrollment_yearly</td>\n",
       "      <td>claim_created_flag</td>\n",
       "      <td>false</td>\n",
       "      <td>1030159394</td>\n",
       "      <td>2021-10-18 16:23:55.577667</td>\n",
       "    </tr>\n",
       "  </tbody>\n",
       "</table>\n",
       "<p>248 rows × 6 columns</p>\n",
       "</div>"
      ],
      "text/plain": [
       "        database_name                   table_name         column_name  \\\n",
       "19891  data_warehouse                    admission    discharge_status   \n",
       "18657  data_warehouse                    admission    discharge_status   \n",
       "18490  data_warehouse                    admission    discharge_status   \n",
       "14603  data_warehouse                    admission    discharge_status   \n",
       "14657  data_warehouse                    admission    discharge_status   \n",
       "...               ...                          ...                 ...   \n",
       "19407  data_warehouse  medicaid_program_enrollment              mco_id   \n",
       "20059  data_warehouse  medicaid_program_enrollment               me_sd   \n",
       "19526  data_warehouse     member_enrollment_yearly         rx_coverage   \n",
       "4292   data_warehouse     member_enrollment_yearly         rx_coverage   \n",
       "15525  data_warehouse     member_enrollment_yearly  claim_created_flag   \n",
       "\n",
       "      column_values  column_count                import_date  \n",
       "19891            00       1112507 2021-10-18 15:46:57.358080  \n",
       "18657            01      27920450 2021-10-21 20:01:30.218340  \n",
       "18490            02       1666891 2021-10-18 15:46:57.358080  \n",
       "14603            03       3756358 2021-10-18 15:46:57.358080  \n",
       "14657            04        233336 2021-10-21 20:01:30.218340  \n",
       "...             ...           ...                        ...  \n",
       "19407          None      79085526 2021-10-18 16:17:14.995034  \n",
       "20059          None      79085526 2021-10-18 16:17:09.430261  \n",
       "19526             0      75720929 2021-10-18 16:26:01.366432  \n",
       "4292              1     954438465 2021-10-18 16:24:00.762940  \n",
       "15525         false    1030159394 2021-10-18 16:23:55.577667  \n",
       "\n",
       "[248 rows x 6 columns]"
      ]
     },
     "execution_count": 87,
     "metadata": {},
     "output_type": "execute_result"
    }
   ],
   "source": [
    "#duplicate values\n",
    "dups = distinct_codes_df.duplicated(subset=['database_name', 'table_name', \n",
    "                                            'column_name', 'column_values'])\n",
    "distinct_codes_df.loc[dups]"
   ]
  },
  {
   "cell_type": "code",
   "execution_count": 88,
   "id": "5c13fcae",
   "metadata": {},
   "outputs": [],
   "source": [
    "#drop duplicates\n",
    "distinct_codes_df = distinct_codes_df.drop_duplicates(subset=['database_name', 'table_name', \n",
    "                                                              'column_name', 'column_values'])"
   ]
  },
  {
   "cell_type": "markdown",
   "id": "07b5cf3a",
   "metadata": {},
   "source": [
    "### Summary statistics"
   ]
  },
  {
   "cell_type": "code",
   "execution_count": 89,
   "id": "7fbb6350",
   "metadata": {},
   "outputs": [
    {
     "name": "stdout",
     "output_type": "stream",
     "text": [
      "2721444.6758198226\n",
      "36103916737\n"
     ]
    }
   ],
   "source": [
    "print(distinct_codes_df['column_count'].mean())\n",
    "print(distinct_codes_df['column_count'].max())"
   ]
  },
  {
   "cell_type": "code",
   "execution_count": 90,
   "id": "486526d0",
   "metadata": {},
   "outputs": [
    {
     "data": {
      "text/html": [
       "<div>\n",
       "<style scoped>\n",
       "    .dataframe tbody tr th:only-of-type {\n",
       "        vertical-align: middle;\n",
       "    }\n",
       "\n",
       "    .dataframe tbody tr th {\n",
       "        vertical-align: top;\n",
       "    }\n",
       "\n",
       "    .dataframe thead th {\n",
       "        text-align: right;\n",
       "    }\n",
       "</style>\n",
       "<table border=\"1\" class=\"dataframe\">\n",
       "  <thead>\n",
       "    <tr style=\"text-align: right;\">\n",
       "      <th></th>\n",
       "      <th>column_count</th>\n",
       "    </tr>\n",
       "  </thead>\n",
       "  <tbody>\n",
       "    <tr>\n",
       "      <th>count</th>\n",
       "      <td>3.571810e+05</td>\n",
       "    </tr>\n",
       "    <tr>\n",
       "      <th>mean</th>\n",
       "      <td>2.721445e+06</td>\n",
       "    </tr>\n",
       "    <tr>\n",
       "      <th>std</th>\n",
       "      <td>1.690679e+08</td>\n",
       "    </tr>\n",
       "    <tr>\n",
       "      <th>min</th>\n",
       "      <td>1.000000e+00</td>\n",
       "    </tr>\n",
       "    <tr>\n",
       "      <th>25%</th>\n",
       "      <td>4.000000e+00</td>\n",
       "    </tr>\n",
       "    <tr>\n",
       "      <th>50%</th>\n",
       "      <td>4.500000e+01</td>\n",
       "    </tr>\n",
       "    <tr>\n",
       "      <th>75%</th>\n",
       "      <td>1.225000e+03</td>\n",
       "    </tr>\n",
       "    <tr>\n",
       "      <th>max</th>\n",
       "      <td>3.610392e+10</td>\n",
       "    </tr>\n",
       "  </tbody>\n",
       "</table>\n",
       "</div>"
      ],
      "text/plain": [
       "       column_count\n",
       "count  3.571810e+05\n",
       "mean   2.721445e+06\n",
       "std    1.690679e+08\n",
       "min    1.000000e+00\n",
       "25%    4.000000e+00\n",
       "50%    4.500000e+01\n",
       "75%    1.225000e+03\n",
       "max    3.610392e+10"
      ]
     },
     "execution_count": 90,
     "metadata": {},
     "output_type": "execute_result"
    }
   ],
   "source": [
    "distinct_codes_df.describe()"
   ]
  },
  {
   "cell_type": "code",
   "execution_count": 93,
   "id": "ced8f755",
   "metadata": {},
   "outputs": [
    {
     "data": {
      "text/html": [
       "<div>\n",
       "<style scoped>\n",
       "    .dataframe tbody tr th:only-of-type {\n",
       "        vertical-align: middle;\n",
       "    }\n",
       "\n",
       "    .dataframe tbody tr th {\n",
       "        vertical-align: top;\n",
       "    }\n",
       "\n",
       "    .dataframe thead th {\n",
       "        text-align: right;\n",
       "    }\n",
       "</style>\n",
       "<table border=\"1\" class=\"dataframe\">\n",
       "  <thead>\n",
       "    <tr style=\"text-align: right;\">\n",
       "      <th></th>\n",
       "      <th></th>\n",
       "      <th>column_count</th>\n",
       "    </tr>\n",
       "    <tr>\n",
       "      <th>table_name</th>\n",
       "      <th>column_name</th>\n",
       "      <th></th>\n",
       "    </tr>\n",
       "  </thead>\n",
       "  <tbody>\n",
       "    <tr>\n",
       "      <th rowspan=\"3\" valign=\"top\">admission</th>\n",
       "      <th>data_source</th>\n",
       "      <td>2.161906e+07</td>\n",
       "    </tr>\n",
       "    <tr>\n",
       "      <th>discharge_status</th>\n",
       "      <td>8.007059e+05</td>\n",
       "    </tr>\n",
       "    <tr>\n",
       "      <th>table_id_src</th>\n",
       "      <td>1.621430e+07</td>\n",
       "    </tr>\n",
       "    <tr>\n",
       "      <th rowspan=\"2\" valign=\"top\">claim_detail</th>\n",
       "      <th>bill_type_class</th>\n",
       "      <td>1.299611e+09</td>\n",
       "    </tr>\n",
       "    <tr>\n",
       "      <th>bill_type_inst</th>\n",
       "      <td>1.299611e+09</td>\n",
       "    </tr>\n",
       "    <tr>\n",
       "      <th>...</th>\n",
       "      <th>...</th>\n",
       "      <td>...</td>\n",
       "    </tr>\n",
       "    <tr>\n",
       "      <th>member_enrollment_yearly</th>\n",
       "      <th>year</th>\n",
       "      <td>6.867729e+07</td>\n",
       "    </tr>\n",
       "    <tr>\n",
       "      <th rowspan=\"4\" valign=\"top\">pharmacy_claims</th>\n",
       "      <th>data_source</th>\n",
       "      <td>1.678329e+09</td>\n",
       "    </tr>\n",
       "    <tr>\n",
       "      <th>dispensed_as_written</th>\n",
       "      <td>8.391646e+08</td>\n",
       "    </tr>\n",
       "    <tr>\n",
       "      <th>first_fill</th>\n",
       "      <td>3.356658e+09</td>\n",
       "    </tr>\n",
       "    <tr>\n",
       "      <th>retail_or_mail_indicator</th>\n",
       "      <td>1.678329e+09</td>\n",
       "    </tr>\n",
       "  </tbody>\n",
       "</table>\n",
       "<p>89 rows × 1 columns</p>\n",
       "</div>"
      ],
      "text/plain": [
       "                                                   column_count\n",
       "table_name               column_name                           \n",
       "admission                data_source               2.161906e+07\n",
       "                         discharge_status          8.007059e+05\n",
       "                         table_id_src              1.621430e+07\n",
       "claim_detail             bill_type_class           1.299611e+09\n",
       "                         bill_type_inst            1.299611e+09\n",
       "...                                                         ...\n",
       "member_enrollment_yearly year                      6.867729e+07\n",
       "pharmacy_claims          data_source               1.678329e+09\n",
       "                         dispensed_as_written      8.391646e+08\n",
       "                         first_fill                3.356658e+09\n",
       "                         retail_or_mail_indicator  1.678329e+09\n",
       "\n",
       "[89 rows x 1 columns]"
      ]
     },
     "execution_count": 93,
     "metadata": {},
     "output_type": "execute_result"
    }
   ],
   "source": [
    "distinct_codes_df.groupby(['table_name','column_name'])[['column_count']].mean()"
   ]
  },
  {
   "cell_type": "code",
   "execution_count": 94,
   "id": "e2f5399d",
   "metadata": {},
   "outputs": [
    {
     "data": {
      "text/html": [
       "<div>\n",
       "<style scoped>\n",
       "    .dataframe tbody tr th:only-of-type {\n",
       "        vertical-align: middle;\n",
       "    }\n",
       "\n",
       "    .dataframe tbody tr th {\n",
       "        vertical-align: top;\n",
       "    }\n",
       "\n",
       "    .dataframe thead th {\n",
       "        text-align: right;\n",
       "    }\n",
       "</style>\n",
       "<table border=\"1\" class=\"dataframe\">\n",
       "  <thead>\n",
       "    <tr style=\"text-align: right;\">\n",
       "      <th></th>\n",
       "      <th></th>\n",
       "      <th>column_count</th>\n",
       "    </tr>\n",
       "    <tr>\n",
       "      <th>table_name</th>\n",
       "      <th>column_name</th>\n",
       "      <th></th>\n",
       "    </tr>\n",
       "  </thead>\n",
       "  <tbody>\n",
       "    <tr>\n",
       "      <th rowspan=\"3\" valign=\"top\">admission</th>\n",
       "      <th>data_source</th>\n",
       "      <td>3</td>\n",
       "    </tr>\n",
       "    <tr>\n",
       "      <th>discharge_status</th>\n",
       "      <td>81</td>\n",
       "    </tr>\n",
       "    <tr>\n",
       "      <th>table_id_src</th>\n",
       "      <td>4</td>\n",
       "    </tr>\n",
       "    <tr>\n",
       "      <th rowspan=\"2\" valign=\"top\">claim_detail</th>\n",
       "      <th>bill_type_class</th>\n",
       "      <td>22</td>\n",
       "    </tr>\n",
       "    <tr>\n",
       "      <th>bill_type_inst</th>\n",
       "      <td>22</td>\n",
       "    </tr>\n",
       "    <tr>\n",
       "      <th>...</th>\n",
       "      <th>...</th>\n",
       "      <td>...</td>\n",
       "    </tr>\n",
       "    <tr>\n",
       "      <th>member_enrollment_yearly</th>\n",
       "      <th>year</th>\n",
       "      <td>15</td>\n",
       "    </tr>\n",
       "    <tr>\n",
       "      <th rowspan=\"4\" valign=\"top\">pharmacy_claims</th>\n",
       "      <th>data_source</th>\n",
       "      <td>6</td>\n",
       "    </tr>\n",
       "    <tr>\n",
       "      <th>dispensed_as_written</th>\n",
       "      <td>12</td>\n",
       "    </tr>\n",
       "    <tr>\n",
       "      <th>first_fill</th>\n",
       "      <td>3</td>\n",
       "    </tr>\n",
       "    <tr>\n",
       "      <th>retail_or_mail_indicator</th>\n",
       "      <td>6</td>\n",
       "    </tr>\n",
       "  </tbody>\n",
       "</table>\n",
       "<p>89 rows × 1 columns</p>\n",
       "</div>"
      ],
      "text/plain": [
       "                                                   column_count\n",
       "table_name               column_name                           \n",
       "admission                data_source                          3\n",
       "                         discharge_status                    81\n",
       "                         table_id_src                         4\n",
       "claim_detail             bill_type_class                     22\n",
       "                         bill_type_inst                      22\n",
       "...                                                         ...\n",
       "member_enrollment_yearly year                                15\n",
       "pharmacy_claims          data_source                          6\n",
       "                         dispensed_as_written                12\n",
       "                         first_fill                           3\n",
       "                         retail_or_mail_indicator             6\n",
       "\n",
       "[89 rows x 1 columns]"
      ]
     },
     "execution_count": 94,
     "metadata": {},
     "output_type": "execute_result"
    }
   ],
   "source": [
    "distinct_codes_df.groupby(['table_name','column_name'])[['column_count']].count()"
   ]
  },
  {
   "cell_type": "code",
   "execution_count": 96,
   "id": "e60007fd",
   "metadata": {},
   "outputs": [
    {
     "data": {
      "text/html": [
       "<div>\n",
       "<style scoped>\n",
       "    .dataframe tbody tr th:only-of-type {\n",
       "        vertical-align: middle;\n",
       "    }\n",
       "\n",
       "    .dataframe tbody tr th {\n",
       "        vertical-align: top;\n",
       "    }\n",
       "\n",
       "    .dataframe thead th {\n",
       "        text-align: right;\n",
       "    }\n",
       "</style>\n",
       "<table border=\"1\" class=\"dataframe\">\n",
       "  <thead>\n",
       "    <tr style=\"text-align: right;\">\n",
       "      <th></th>\n",
       "      <th></th>\n",
       "      <th>mean</th>\n",
       "      <th>count</th>\n",
       "    </tr>\n",
       "    <tr>\n",
       "      <th>table_name</th>\n",
       "      <th>column_name</th>\n",
       "      <th></th>\n",
       "      <th></th>\n",
       "    </tr>\n",
       "  </thead>\n",
       "  <tbody>\n",
       "    <tr>\n",
       "      <th rowspan=\"3\" valign=\"top\">admission</th>\n",
       "      <th>data_source</th>\n",
       "      <td>2.161906e+07</td>\n",
       "      <td>3</td>\n",
       "    </tr>\n",
       "    <tr>\n",
       "      <th>discharge_status</th>\n",
       "      <td>8.007059e+05</td>\n",
       "      <td>81</td>\n",
       "    </tr>\n",
       "    <tr>\n",
       "      <th>table_id_src</th>\n",
       "      <td>1.621430e+07</td>\n",
       "      <td>4</td>\n",
       "    </tr>\n",
       "    <tr>\n",
       "      <th rowspan=\"2\" valign=\"top\">claim_detail</th>\n",
       "      <th>bill_type_class</th>\n",
       "      <td>1.299611e+09</td>\n",
       "      <td>22</td>\n",
       "    </tr>\n",
       "    <tr>\n",
       "      <th>bill_type_inst</th>\n",
       "      <td>1.299611e+09</td>\n",
       "      <td>22</td>\n",
       "    </tr>\n",
       "    <tr>\n",
       "      <th>...</th>\n",
       "      <th>...</th>\n",
       "      <td>...</td>\n",
       "      <td>...</td>\n",
       "    </tr>\n",
       "    <tr>\n",
       "      <th>member_enrollment_yearly</th>\n",
       "      <th>year</th>\n",
       "      <td>6.867729e+07</td>\n",
       "      <td>15</td>\n",
       "    </tr>\n",
       "    <tr>\n",
       "      <th rowspan=\"4\" valign=\"top\">pharmacy_claims</th>\n",
       "      <th>data_source</th>\n",
       "      <td>1.678329e+09</td>\n",
       "      <td>6</td>\n",
       "    </tr>\n",
       "    <tr>\n",
       "      <th>dispensed_as_written</th>\n",
       "      <td>8.391646e+08</td>\n",
       "      <td>12</td>\n",
       "    </tr>\n",
       "    <tr>\n",
       "      <th>first_fill</th>\n",
       "      <td>3.356658e+09</td>\n",
       "      <td>3</td>\n",
       "    </tr>\n",
       "    <tr>\n",
       "      <th>retail_or_mail_indicator</th>\n",
       "      <td>1.678329e+09</td>\n",
       "      <td>6</td>\n",
       "    </tr>\n",
       "  </tbody>\n",
       "</table>\n",
       "<p>89 rows × 2 columns</p>\n",
       "</div>"
      ],
      "text/plain": [
       "                                                           mean  count\n",
       "table_name               column_name                                  \n",
       "admission                data_source               2.161906e+07      3\n",
       "                         discharge_status          8.007059e+05     81\n",
       "                         table_id_src              1.621430e+07      4\n",
       "claim_detail             bill_type_class           1.299611e+09     22\n",
       "                         bill_type_inst            1.299611e+09     22\n",
       "...                                                         ...    ...\n",
       "member_enrollment_yearly year                      6.867729e+07     15\n",
       "pharmacy_claims          data_source               1.678329e+09      6\n",
       "                         dispensed_as_written      8.391646e+08     12\n",
       "                         first_fill                3.356658e+09      3\n",
       "                         retail_or_mail_indicator  1.678329e+09      6\n",
       "\n",
       "[89 rows x 2 columns]"
      ]
     },
     "execution_count": 96,
     "metadata": {},
     "output_type": "execute_result"
    }
   ],
   "source": [
    "#both a once\n",
    "distinct_codes_df.groupby(['table_name','column_name'])['column_count'].agg(['mean','count'])"
   ]
  },
  {
   "cell_type": "code",
   "execution_count": 97,
   "id": "45545ba2",
   "metadata": {},
   "outputs": [
    {
     "data": {
      "text/html": [
       "<div>\n",
       "<style scoped>\n",
       "    .dataframe tbody tr th:only-of-type {\n",
       "        vertical-align: middle;\n",
       "    }\n",
       "\n",
       "    .dataframe tbody tr th {\n",
       "        vertical-align: top;\n",
       "    }\n",
       "\n",
       "    .dataframe thead th {\n",
       "        text-align: right;\n",
       "    }\n",
       "</style>\n",
       "<table border=\"1\" class=\"dataframe\">\n",
       "  <thead>\n",
       "    <tr style=\"text-align: right;\">\n",
       "      <th></th>\n",
       "      <th>column_values</th>\n",
       "    </tr>\n",
       "    <tr>\n",
       "      <th>import_date</th>\n",
       "      <th></th>\n",
       "    </tr>\n",
       "  </thead>\n",
       "  <tbody>\n",
       "    <tr>\n",
       "      <th>2021-10-18</th>\n",
       "      <td>10656</td>\n",
       "    </tr>\n",
       "    <tr>\n",
       "      <th>2021-10-19</th>\n",
       "      <td>12</td>\n",
       "    </tr>\n",
       "    <tr>\n",
       "      <th>2021-10-20</th>\n",
       "      <td>0</td>\n",
       "    </tr>\n",
       "    <tr>\n",
       "      <th>2021-10-21</th>\n",
       "      <td>346469</td>\n",
       "    </tr>\n",
       "  </tbody>\n",
       "</table>\n",
       "</div>"
      ],
      "text/plain": [
       "             column_values\n",
       "import_date               \n",
       "2021-10-18           10656\n",
       "2021-10-19              12\n",
       "2021-10-20               0\n",
       "2021-10-21          346469"
      ]
     },
     "execution_count": 97,
     "metadata": {},
     "output_type": "execute_result"
    }
   ],
   "source": [
    "#group by dates\n",
    "distinct_codes_df.resample('D', on='import_date')[['column_values']].count()"
   ]
  },
  {
   "cell_type": "code",
   "execution_count": 116,
   "id": "cb760cf6",
   "metadata": {},
   "outputs": [
    {
     "data": {
      "text/html": [
       "<div>\n",
       "<style scoped>\n",
       "    .dataframe tbody tr th:only-of-type {\n",
       "        vertical-align: middle;\n",
       "    }\n",
       "\n",
       "    .dataframe tbody tr th {\n",
       "        vertical-align: top;\n",
       "    }\n",
       "\n",
       "    .dataframe thead th {\n",
       "        text-align: right;\n",
       "    }\n",
       "</style>\n",
       "<table border=\"1\" class=\"dataframe\">\n",
       "  <thead>\n",
       "    <tr style=\"text-align: right;\">\n",
       "      <th></th>\n",
       "      <th>database_name</th>\n",
       "      <th>table_name</th>\n",
       "      <th>column_name</th>\n",
       "      <th>column_values</th>\n",
       "      <th>column_count</th>\n",
       "      <th>import_date</th>\n",
       "    </tr>\n",
       "  </thead>\n",
       "  <tbody>\n",
       "    <tr>\n",
       "      <th>297851</th>\n",
       "      <td>data_warehouse</td>\n",
       "      <td>claim_diag</td>\n",
       "      <td>icd_type</td>\n",
       "      <td></td>\n",
       "      <td>7952144</td>\n",
       "      <td>2021-10-21 20:07:05.475132</td>\n",
       "    </tr>\n",
       "    <tr>\n",
       "      <th>267891</th>\n",
       "      <td>data_warehouse</td>\n",
       "      <td>claim_diag</td>\n",
       "      <td>icd_type</td>\n",
       "      <td></td>\n",
       "      <td>379875</td>\n",
       "      <td>2021-10-21 20:07:05.475132</td>\n",
       "    </tr>\n",
       "    <tr>\n",
       "      <th>277561</th>\n",
       "      <td>data_warehouse</td>\n",
       "      <td>claim_diag</td>\n",
       "      <td>icd_type</td>\n",
       "      <td>0</td>\n",
       "      <td>17108590716</td>\n",
       "      <td>2021-10-21 20:07:05.475132</td>\n",
       "    </tr>\n",
       "    <tr>\n",
       "      <th>270450</th>\n",
       "      <td>data_warehouse</td>\n",
       "      <td>claim_diag</td>\n",
       "      <td>icd_type</td>\n",
       "      <td>0</td>\n",
       "      <td>1891166975</td>\n",
       "      <td>2021-10-21 20:07:05.475132</td>\n",
       "    </tr>\n",
       "    <tr>\n",
       "      <th>273738</th>\n",
       "      <td>data_warehouse</td>\n",
       "      <td>claim_diag</td>\n",
       "      <td>icd_type</td>\n",
       "      <td>10</td>\n",
       "      <td>9804060570</td>\n",
       "      <td>2021-10-21 20:07:05.475132</td>\n",
       "    </tr>\n",
       "    <tr>\n",
       "      <th>295852</th>\n",
       "      <td>data_warehouse</td>\n",
       "      <td>claim_diag</td>\n",
       "      <td>icd_type</td>\n",
       "      <td>2</td>\n",
       "      <td>225</td>\n",
       "      <td>2021-10-21 20:07:05.475132</td>\n",
       "    </tr>\n",
       "    <tr>\n",
       "      <th>278563</th>\n",
       "      <td>data_warehouse</td>\n",
       "      <td>claim_diag</td>\n",
       "      <td>icd_type</td>\n",
       "      <td>3</td>\n",
       "      <td>275</td>\n",
       "      <td>2021-10-21 20:07:05.475132</td>\n",
       "    </tr>\n",
       "    <tr>\n",
       "      <th>287697</th>\n",
       "      <td>data_warehouse</td>\n",
       "      <td>claim_diag</td>\n",
       "      <td>icd_type</td>\n",
       "      <td>5</td>\n",
       "      <td>100</td>\n",
       "      <td>2021-10-21 20:07:05.475132</td>\n",
       "    </tr>\n",
       "    <tr>\n",
       "      <th>278237</th>\n",
       "      <td>data_warehouse</td>\n",
       "      <td>claim_diag</td>\n",
       "      <td>icd_type</td>\n",
       "      <td>9</td>\n",
       "      <td>20859069776</td>\n",
       "      <td>2021-10-21 20:07:05.475132</td>\n",
       "    </tr>\n",
       "    <tr>\n",
       "      <th>260636</th>\n",
       "      <td>data_warehouse</td>\n",
       "      <td>claim_diag</td>\n",
       "      <td>icd_type</td>\n",
       "      <td>9</td>\n",
       "      <td>22950</td>\n",
       "      <td>2021-10-21 20:07:05.475132</td>\n",
       "    </tr>\n",
       "    <tr>\n",
       "      <th>292287</th>\n",
       "      <td>data_warehouse</td>\n",
       "      <td>claim_diag</td>\n",
       "      <td>icd_type</td>\n",
       "      <td>O</td>\n",
       "      <td>150</td>\n",
       "      <td>2021-10-21 20:07:05.475132</td>\n",
       "    </tr>\n",
       "    <tr>\n",
       "      <th>275661</th>\n",
       "      <td>data_warehouse</td>\n",
       "      <td>claim_diag</td>\n",
       "      <td>icd_type</td>\n",
       "      <td>None</td>\n",
       "      <td>27770556471</td>\n",
       "      <td>2021-10-21 20:07:05.475132</td>\n",
       "    </tr>\n",
       "  </tbody>\n",
       "</table>\n",
       "</div>"
      ],
      "text/plain": [
       "         database_name  table_name column_name column_values  column_count  \\\n",
       "297851  data_warehouse  claim_diag    icd_type                     7952144   \n",
       "267891  data_warehouse  claim_diag    icd_type                      379875   \n",
       "277561  data_warehouse  claim_diag    icd_type             0   17108590716   \n",
       "270450  data_warehouse  claim_diag    icd_type         0        1891166975   \n",
       "273738  data_warehouse  claim_diag    icd_type            10    9804060570   \n",
       "295852  data_warehouse  claim_diag    icd_type             2           225   \n",
       "278563  data_warehouse  claim_diag    icd_type             3           275   \n",
       "287697  data_warehouse  claim_diag    icd_type             5           100   \n",
       "278237  data_warehouse  claim_diag    icd_type             9   20859069776   \n",
       "260636  data_warehouse  claim_diag    icd_type         9             22950   \n",
       "292287  data_warehouse  claim_diag    icd_type             O           150   \n",
       "275661  data_warehouse  claim_diag    icd_type          None   27770556471   \n",
       "\n",
       "                      import_date  \n",
       "297851 2021-10-21 20:07:05.475132  \n",
       "267891 2021-10-21 20:07:05.475132  \n",
       "277561 2021-10-21 20:07:05.475132  \n",
       "270450 2021-10-21 20:07:05.475132  \n",
       "273738 2021-10-21 20:07:05.475132  \n",
       "295852 2021-10-21 20:07:05.475132  \n",
       "278563 2021-10-21 20:07:05.475132  \n",
       "287697 2021-10-21 20:07:05.475132  \n",
       "278237 2021-10-21 20:07:05.475132  \n",
       "260636 2021-10-21 20:07:05.475132  \n",
       "292287 2021-10-21 20:07:05.475132  \n",
       "275661 2021-10-21 20:07:05.475132  "
      ]
     },
     "execution_count": 116,
     "metadata": {},
     "output_type": "execute_result"
    }
   ],
   "source": [
    "dx_codes_df = distinct_codes_df.loc[(distinct_codes_df['table_name']=='claim_diag')&\n",
    "                      (distinct_codes_df['column_name']=='icd_type')]\n",
    "dx_codes_df"
   ]
  },
  {
   "cell_type": "code",
   "execution_count": 120,
   "id": "b110c81c",
   "metadata": {},
   "outputs": [
    {
     "name": "stdout",
     "output_type": "stream",
     "text": [
      "11\n"
     ]
    },
    {
     "data": {
      "text/plain": [
       "array(['', '     ', '0', '0    ', '10', '2', '3', '5', '9', '9    ', 'O',\n",
       "       None], dtype=object)"
      ]
     },
     "execution_count": 120,
     "metadata": {},
     "output_type": "execute_result"
    }
   ],
   "source": [
    "print(dx_codes_df['column_values'].nunique())\n",
    "dx_codes_df['column_values'].unique()"
   ]
  },
  {
   "cell_type": "code",
   "execution_count": 121,
   "id": "6568711d",
   "metadata": {},
   "outputs": [
    {
     "name": "stdout",
     "output_type": "stream",
     "text": [
      "8\n"
     ]
    },
    {
     "name": "stderr",
     "output_type": "stream",
     "text": [
      "<ipython-input-121-209641d660c3>:1: SettingWithCopyWarning: \n",
      "A value is trying to be set on a copy of a slice from a DataFrame.\n",
      "Try using .loc[row_indexer,col_indexer] = value instead\n",
      "\n",
      "See the caveats in the documentation: https://pandas.pydata.org/pandas-docs/stable/user_guide/indexing.html#returning-a-view-versus-a-copy\n",
      "  dx_codes_df['stripped_column_values'] = dx_codes_df['column_values'].str.strip()\n"
     ]
    }
   ],
   "source": [
    "dx_codes_df['stripped_column_values'] = dx_codes_df['column_values'].str.strip()\n",
    "\n",
    "print(dx_codes_df['stripped_column_values'].nunique())\n"
   ]
  },
  {
   "cell_type": "code",
   "execution_count": 125,
   "id": "b0599a78",
   "metadata": {},
   "outputs": [
    {
     "data": {
      "text/html": [
       "<div>\n",
       "<style scoped>\n",
       "    .dataframe tbody tr th:only-of-type {\n",
       "        vertical-align: middle;\n",
       "    }\n",
       "\n",
       "    .dataframe tbody tr th {\n",
       "        vertical-align: top;\n",
       "    }\n",
       "\n",
       "    .dataframe thead th {\n",
       "        text-align: right;\n",
       "    }\n",
       "</style>\n",
       "<table border=\"1\" class=\"dataframe\">\n",
       "  <thead>\n",
       "    <tr style=\"text-align: right;\">\n",
       "      <th></th>\n",
       "      <th>column_count</th>\n",
       "    </tr>\n",
       "    <tr>\n",
       "      <th>stripped_column_values</th>\n",
       "      <th></th>\n",
       "    </tr>\n",
       "  </thead>\n",
       "  <tbody>\n",
       "    <tr>\n",
       "      <th></th>\n",
       "      <td>8332019</td>\n",
       "    </tr>\n",
       "    <tr>\n",
       "      <th>0</th>\n",
       "      <td>18999757691</td>\n",
       "    </tr>\n",
       "    <tr>\n",
       "      <th>10</th>\n",
       "      <td>9804060570</td>\n",
       "    </tr>\n",
       "    <tr>\n",
       "      <th>2</th>\n",
       "      <td>225</td>\n",
       "    </tr>\n",
       "    <tr>\n",
       "      <th>3</th>\n",
       "      <td>275</td>\n",
       "    </tr>\n",
       "    <tr>\n",
       "      <th>5</th>\n",
       "      <td>100</td>\n",
       "    </tr>\n",
       "    <tr>\n",
       "      <th>9</th>\n",
       "      <td>20859092726</td>\n",
       "    </tr>\n",
       "    <tr>\n",
       "      <th>O</th>\n",
       "      <td>150</td>\n",
       "    </tr>\n",
       "  </tbody>\n",
       "</table>\n",
       "</div>"
      ],
      "text/plain": [
       "                        column_count\n",
       "stripped_column_values              \n",
       "                             8332019\n",
       "0                        18999757691\n",
       "10                        9804060570\n",
       "2                                225\n",
       "3                                275\n",
       "5                                100\n",
       "9                        20859092726\n",
       "O                                150"
      ]
     },
     "execution_count": 125,
     "metadata": {},
     "output_type": "execute_result"
    }
   ],
   "source": [
    "dx_codes_df.groupby(['stripped_column_values'])[['column_count']].sum()"
   ]
  },
  {
   "cell_type": "code",
   "execution_count": 126,
   "id": "6e14dd15",
   "metadata": {
    "scrolled": true
   },
   "outputs": [
    {
     "data": {
      "text/plain": [
       "<AxesSubplot:ylabel='Frequency'>"
      ]
     },
     "execution_count": 126,
     "metadata": {},
     "output_type": "execute_result"
    },
    {
     "data": {
      "image/png": "[encoded data removed]",
      "text/plain": [
       "<Figure size 432x288 with 1 Axes>"
      ]
     },
     "metadata": {
      "needs_background": "light"
     },
     "output_type": "display_data"
    }
   ],
   "source": [
    "distinct_codes_df.groupby(['table_name','column_name']).nunique()['column_count'].plot(kind='hist')"
   ]
  }
 ],
 "metadata": {
  "kernelspec": {
   "display_name": "Python 3",
   "language": "python",
   "name": "python3"
  },
  "language_info": {
   "codemirror_mode": {
    "name": "ipython",
    "version": 3
   },
   "file_extension": ".py",
   "mimetype": "text/x-python",
   "name": "python",
   "nbconvert_exporter": "python",
   "pygments_lexer": "ipython3",
   "version": "3.8.8"
  }
 },
 "nbformat": 4,
 "nbformat_minor": 5
}
