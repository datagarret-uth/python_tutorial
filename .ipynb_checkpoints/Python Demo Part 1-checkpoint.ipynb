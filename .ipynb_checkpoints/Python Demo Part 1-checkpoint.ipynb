{
 "cells": [
  {
   "cell_type": "markdown",
   "id": "c9e987b9",
   "metadata": {},
   "source": [
    "## Part 1 Tutorial\n",
    "\n",
    "Cover the basics, strings, integers, lists, dictionaries and some of the builtin library"
   ]
  },
  {
   "cell_type": "markdown",
   "id": "a8d295b2",
   "metadata": {},
   "source": [
    "## Basics"
   ]
  },
  {
   "cell_type": "code",
   "execution_count": 2,
   "id": "02ffe166",
   "metadata": {},
   "outputs": [
    {
     "name": "stdout",
     "output_type": "stream",
     "text": [
      "Hello World!\n"
     ]
    }
   ],
   "source": [
    "print('Hello World!')"
   ]
  },
  {
   "cell_type": "markdown",
   "id": "856c6edc",
   "metadata": {},
   "source": [
    "\n",
    "## Integers"
   ]
  },
  {
   "cell_type": "code",
   "execution_count": 4,
   "id": "0895df49",
   "metadata": {},
   "outputs": [
    {
     "name": "stdout",
     "output_type": "stream",
     "text": [
      "9\n",
      "10\n",
      "8\n",
      "81\n",
      "4.5\n",
      "4\n",
      "1\n"
     ]
    }
   ],
   "source": [
    "i = 9\n",
    "print(i)\n",
    "\n",
    "#addition\n",
    "print(i+1)\n",
    "\n",
    "#subtraction\n",
    "print(i-1)\n",
    "\n",
    "#square\n",
    "print(i**2)\n",
    "\n",
    "#division\n",
    "print(i/2)\n",
    "\n",
    "#floor division\n",
    "print(i//2)\n",
    "\n",
    "#remainder\n",
    "print(i%2)"
   ]
  },
  {
   "cell_type": "code",
   "execution_count": 10,
   "id": "4d205b53",
   "metadata": {},
   "outputs": [
    {
     "name": "stdout",
     "output_type": "stream",
     "text": [
      "3\n",
      "2\n",
      "0\n",
      "1\n"
     ]
    }
   ],
   "source": [
    "a = 1\n",
    "b = 2\n",
    "print(a+b)\n",
    "b = a\n",
    "print(a+b)\n",
    "a-=1\n",
    "print(a)\n",
    "print(b)"
   ]
  },
  {
   "cell_type": "code",
   "execution_count": 11,
   "id": "23d2f7c1",
   "metadata": {},
   "outputs": [
    {
     "name": "stdout",
     "output_type": "stream",
     "text": [
      "False\n"
     ]
    }
   ],
   "source": [
    "print(2>4)"
   ]
  },
  {
   "cell_type": "code",
   "execution_count": 71,
   "id": "9dc43167",
   "metadata": {},
   "outputs": [
    {
     "data": {
      "text/plain": [
       "True"
      ]
     },
     "execution_count": 71,
     "metadata": {},
     "output_type": "execute_result"
    }
   ],
   "source": [
    "1 == True"
   ]
  },
  {
   "cell_type": "code",
   "execution_count": 72,
   "id": "2bbdc4a3",
   "metadata": {},
   "outputs": [
    {
     "data": {
      "text/plain": [
       "True"
      ]
     },
     "execution_count": 72,
     "metadata": {},
     "output_type": "execute_result"
    }
   ],
   "source": [
    "0 == False"
   ]
  },
  {
   "cell_type": "code",
   "execution_count": 12,
   "id": "a9b28adf",
   "metadata": {},
   "outputs": [],
   "source": [
    "#control structures"
   ]
  },
  {
   "cell_type": "code",
   "execution_count": 129,
   "id": "6e7ff8c6",
   "metadata": {},
   "outputs": [
    {
     "name": "stdout",
     "output_type": "stream",
     "text": [
      "0 is even\n",
      "1 is odd\n",
      "2 is even\n",
      "3 is odd\n",
      "4 is even\n",
      "5 is odd\n",
      "6 is even\n",
      "7 is odd\n",
      "8 is even\n",
      "9 is odd\n"
     ]
    }
   ],
   "source": [
    "n = 10\n",
    "\n",
    "for i in range(n):\n",
    "    if i % 2 == 0:\n",
    "        print(f'{i} is even')\n",
    "    else:\n",
    "        print(f'{i} is odd')"
   ]
  },
  {
   "cell_type": "code",
   "execution_count": 23,
   "id": "1422d10e",
   "metadata": {},
   "outputs": [
    {
     "data": {
      "text/plain": [
       "[0, 10, 20, 30, 40, 50, 60, 70, 80, 90]"
      ]
     },
     "execution_count": 23,
     "metadata": {},
     "output_type": "execute_result"
    }
   ],
   "source": [
    "list(range(0, 100,10))"
   ]
  },
  {
   "cell_type": "code",
   "execution_count": 13,
   "id": "55cff76d",
   "metadata": {},
   "outputs": [
    {
     "name": "stdout",
     "output_type": "stream",
     "text": [
      "1\n",
      "2\n",
      "3\n",
      "4\n",
      "5\n",
      "6\n",
      "7\n",
      "8\n",
      "9\n"
     ]
    }
   ],
   "source": [
    "n = 1\n",
    "while n < 10:\n",
    "    print(n)\n",
    "    n+=1"
   ]
  },
  {
   "cell_type": "markdown",
   "id": "1af7a7e8",
   "metadata": {},
   "source": [
    "## strings"
   ]
  },
  {
   "cell_type": "code",
   "execution_count": 15,
   "id": "9868e52f",
   "metadata": {},
   "outputs": [
    {
     "name": "stdout",
     "output_type": "stream",
     "text": [
      "once upon a time\n",
      "ce upon \n"
     ]
    }
   ],
   "source": [
    "string_var = 'once upon a time'\n",
    "print(string_var)\n",
    "#we can take just parts of the string\n",
    "print(string_var[2:10])"
   ]
  },
  {
   "cell_type": "code",
   "execution_count": 16,
   "id": "d86452a0",
   "metadata": {},
   "outputs": [
    {
     "name": "stdout",
     "output_type": "stream",
     "text": [
      "5\n",
      "upon a time\n"
     ]
    }
   ],
   "source": [
    "\n",
    "#finds location of where upon is in the var\n",
    "print(string_var.find('upon'))\n",
    "print(string_var[string_var.find('upon'):])"
   ]
  },
  {
   "cell_type": "code",
   "execution_count": 19,
   "id": "492cb762",
   "metadata": {},
   "outputs": [
    {
     "name": "stdout",
     "output_type": "stream",
     "text": [
      "ONCE UPON A TIME\n",
      "Once Upon A Time\n",
      "emit a nopu ecno\n"
     ]
    },
    {
     "data": {
      "text/plain": [
       "'oc pnatm'"
      ]
     },
     "execution_count": 19,
     "metadata": {},
     "output_type": "execute_result"
    }
   ],
   "source": [
    "print(string_var.upper())\n",
    "print(string_var.title())\n",
    "#reverse it\n",
    "print(string_var[::-1])\n",
    "#take every second value\n",
    "string_var[::2]"
   ]
  },
  {
   "cell_type": "code",
   "execution_count": 20,
   "id": "1180781d",
   "metadata": {},
   "outputs": [
    {
     "data": {
      "text/plain": [
       "'999'"
      ]
     },
     "execution_count": 20,
     "metadata": {},
     "output_type": "execute_result"
    }
   ],
   "source": [
    "'9'*3"
   ]
  },
  {
   "cell_type": "code",
   "execution_count": 153,
   "id": "0616de7f",
   "metadata": {},
   "outputs": [
    {
     "name": "stdout",
     "output_type": "stream",
     "text": [
      "    *     \n",
      "   ***    \n",
      "  *****   \n",
      " *******  \n",
      "********* \n",
      " *******  \n",
      "  *****   \n",
      "   ***    \n",
      "    *     \n"
     ]
    }
   ],
   "source": [
    "for i in range(1, 19, 2):\n",
    "    if i < 11:\n",
    "        i = '*'*i\n",
    "    else:\n",
    "        i = '*'*(-i+18)\n",
    "    print(i.center(10))"
   ]
  },
  {
   "cell_type": "markdown",
   "id": "e46a6db0",
   "metadata": {},
   "source": [
    "# lists"
   ]
  },
  {
   "cell_type": "code",
   "execution_count": 47,
   "id": "7e133a97",
   "metadata": {},
   "outputs": [
    {
     "data": {
      "text/plain": [
       "[1, 2, 3, 4, 5]"
      ]
     },
     "execution_count": 47,
     "metadata": {},
     "output_type": "execute_result"
    }
   ],
   "source": [
    "num_list = [1, 2, 3, 4, 5]\n",
    "num_list"
   ]
  },
  {
   "cell_type": "code",
   "execution_count": 48,
   "id": "218de434",
   "metadata": {},
   "outputs": [
    {
     "data": {
      "text/plain": [
       "1"
      ]
     },
     "execution_count": 48,
     "metadata": {},
     "output_type": "execute_result"
    }
   ],
   "source": [
    "num_list[0]"
   ]
  },
  {
   "cell_type": "code",
   "execution_count": 49,
   "id": "ae6c6be4",
   "metadata": {},
   "outputs": [
    {
     "data": {
      "text/plain": [
       "[10, 2, 3, 4, 5]"
      ]
     },
     "execution_count": 49,
     "metadata": {},
     "output_type": "execute_result"
    }
   ],
   "source": [
    "num_list[0] = 10\n",
    "num_list"
   ]
  },
  {
   "cell_type": "code",
   "execution_count": 50,
   "id": "47c24eeb",
   "metadata": {},
   "outputs": [
    {
     "data": {
      "text/plain": [
       "[10, 2, 3, 4, 5, 100]"
      ]
     },
     "execution_count": 50,
     "metadata": {},
     "output_type": "execute_result"
    }
   ],
   "source": [
    "num_list.append(100)\n",
    "num_list"
   ]
  },
  {
   "cell_type": "code",
   "execution_count": 51,
   "id": "75c0cb96",
   "metadata": {
    "scrolled": true
   },
   "outputs": [
    {
     "name": "stdout",
     "output_type": "stream",
     "text": [
      "100\n"
     ]
    }
   ],
   "source": [
    "print(num_list.pop())"
   ]
  },
  {
   "cell_type": "code",
   "execution_count": 52,
   "id": "444b53cb",
   "metadata": {},
   "outputs": [
    {
     "data": {
      "text/plain": [
       "[10, 2, 3, 4, 5]"
      ]
     },
     "execution_count": 52,
     "metadata": {},
     "output_type": "execute_result"
    }
   ],
   "source": [
    "num_list"
   ]
  },
  {
   "cell_type": "code",
   "execution_count": 53,
   "id": "cd55e4d6",
   "metadata": {},
   "outputs": [
    {
     "data": {
      "text/plain": [
       "[2, 3, 4, 5, 10]"
      ]
     },
     "execution_count": 53,
     "metadata": {},
     "output_type": "execute_result"
    }
   ],
   "source": [
    "num_list.sort()\n",
    "num_list"
   ]
  },
  {
   "cell_type": "markdown",
   "id": "baf4a465",
   "metadata": {},
   "source": [
    "# Use Case 1\n",
    "\n",
    "\n",
    "Write a sql command that gets the counts values for a columns for a sequence of tables"
   ]
  },
  {
   "cell_type": "code",
   "execution_count": 45,
   "id": "8798e1c7",
   "metadata": {},
   "outputs": [
    {
     "name": "stdout",
     "output_type": "stream",
     "text": [
      "\n",
      "        select data_source, count(*) from data_warehouse.admission group by data_source;\n",
      "        \n",
      "\n",
      "        select year, count(*) from data_warehouse.admission group by year;\n",
      "        \n",
      "\n",
      "        select data_source, count(*) from data_warehouse.claim_diag group by data_source;\n",
      "        \n",
      "\n",
      "        select year, count(*) from data_warehouse.claim_diag group by year;\n",
      "        \n",
      "\n",
      "        select data_source, count(*) from data_warehouse.claim_detail group by data_source;\n",
      "        \n",
      "\n",
      "        select year, count(*) from data_warehouse.claim_detail group by year;\n",
      "        \n"
     ]
    }
   ],
   "source": [
    "\n",
    "table_list = ['admission', 'claim_diag', 'claim_detail']\n",
    "column_list = ['data_source', 'year']\n",
    "\n",
    "#f strings.\n",
    "\n",
    "for table in table_list:\n",
    "    for column in column_list:\n",
    "        \n",
    "\n",
    "        sql_query = f'''\n",
    "        select {column}, count(*) from data_warehouse.{table} group by {column};\n",
    "        '''\n",
    "        print(sql_query)\n"
   ]
  },
  {
   "cell_type": "code",
   "execution_count": 48,
   "id": "6e90cea7",
   "metadata": {},
   "outputs": [
    {
     "data": {
      "text/plain": [
       "['select data_source, count(*) from data_warehouse.admission group by data_source;\\n',\n",
       " 'select year, count(*) from data_warehouse.admission group by year;\\n',\n",
       " 'select data_source, count(*) from data_warehouse.claim_diag group by data_source;\\n',\n",
       " 'select year, count(*) from data_warehouse.claim_diag group by year;\\n',\n",
       " 'select data_source, count(*) from data_warehouse.claim_detail group by data_source;\\n',\n",
       " 'select year, count(*) from data_warehouse.claim_detail group by year;\\n']"
      ]
     },
     "execution_count": 48,
     "metadata": {},
     "output_type": "execute_result"
    }
   ],
   "source": [
    "\n",
    "table_list = ['admission', 'claim_diag', 'claim_detail']\n",
    "column_list = ['data_source', 'year']\n",
    "\n",
    "total_sql_query_list = []\n",
    "\n",
    "for table in table_list:\n",
    "    for column in column_list:\n",
    "\n",
    "        sql_query = f'''select {column}, count(*) from data_warehouse.{table} group by {column};\\n'''\n",
    "        total_sql_query_list.append(sql_query)\n",
    "\n",
    "total_sql_query_list"
   ]
  },
  {
   "cell_type": "code",
   "execution_count": 44,
   "id": "2bf11496",
   "metadata": {},
   "outputs": [],
   "source": [
    "with open('sql_script.sql', 'w') as f:\n",
    "    f.writelines(total_sql_query_list)"
   ]
  },
  {
   "cell_type": "code",
   "execution_count": 50,
   "id": "ac7515dd",
   "metadata": {},
   "outputs": [
    {
     "data": {
      "text/plain": [
       "[[('admission', 'data_source'), ('claim_diag', 'year')],\n",
       " [('admission', 'data_source'), ('claim_detail', 'year')],\n",
       " [('claim_diag', 'data_source'), ('admission', 'year')],\n",
       " [('claim_diag', 'data_source'), ('claim_detail', 'year')],\n",
       " [('claim_detail', 'data_source'), ('admission', 'year')],\n",
       " [('claim_detail', 'data_source'), ('claim_diag', 'year')]]"
      ]
     },
     "execution_count": 50,
     "metadata": {},
     "output_type": "execute_result"
    }
   ],
   "source": [
    "#using itertools \n",
    "\n",
    "total_sql_query_list = []\n",
    "permutations = itertools.permutations(table_list, len(column_list))\n",
    "\n",
    "for perm in permutations:\n",
    "    zipped = zip(perm, column_list)\n",
    "    total_sql_query_list.append(list(zipped))\n",
    "total_sql_query_list"
   ]
  },
  {
   "cell_type": "markdown",
   "id": "8c9280ea",
   "metadata": {},
   "source": [
    "# Use Case #2\n",
    "\n",
    "need to find all patients that have a combination of a list of diagnosis\n"
   ]
  },
  {
   "cell_type": "code",
   "execution_count": 51,
   "id": "1cf02e1e",
   "metadata": {},
   "outputs": [
    {
     "name": "stdout",
     "output_type": "stream",
     "text": [
      "[('diabetes', 'asthma'), ('diabetes', 'scd'), ('diabetes', 'neurological'), ('asthma', 'scd'), ('asthma', 'neurological'), ('scd', 'neurological')]\n"
     ]
    }
   ],
   "source": [
    "import itertools\n",
    "num_list = ['diabetes', 'asthma', 'scd', 'neurological']\n",
    "\n",
    "temp = itertools.combinations(num_list, 2)\n",
    "temp = list(temp)\n",
    "print(temp)"
   ]
  },
  {
   "cell_type": "code",
   "execution_count": 52,
   "id": "6d8e293a",
   "metadata": {},
   "outputs": [
    {
     "name": "stdout",
     "output_type": "stream",
     "text": [
      "select * from dev.test where condition_1 = \"diabetes\" and condition_2 = \"asthma\";\n",
      "select * from dev.test where condition_1 = \"diabetes\" and condition_2 = \"scd\";\n",
      "select * from dev.test where condition_1 = \"diabetes\" and condition_2 = \"neurological\";\n",
      "select * from dev.test where condition_1 = \"asthma\" and condition_2 = \"scd\";\n",
      "select * from dev.test where condition_1 = \"asthma\" and condition_2 = \"neurological\";\n",
      "select * from dev.test where condition_1 = \"scd\" and condition_2 = \"neurological\";\n"
     ]
    }
   ],
   "source": [
    "\n",
    "for i in temp:\n",
    "    sql_string = f'select * from dev.test where condition_1 = \"{i[0]}\" and condition_2 = \"{i[1]}\";'\n",
    "    print(sql_string)\n",
    "    "
   ]
  },
  {
   "cell_type": "markdown",
   "id": "e6ce48ea",
   "metadata": {},
   "source": [
    "# Use Case #3\n",
    "\n",
    "someone gives you a list of icd codes that are in email...\n",
    "\n",
    "Dear X,\n",
    "\n",
    "I need a count of patients with the following icd codes\n",
    "\n",
    "list of icd codes\n",
    "410.00\n",
    "410.01\n",
    "410.10\n",
    "410.11\n",
    "410.20\n",
    "410.21\n",
    "410.30\n",
    "410.31\n",
    "410.40\n",
    "410.41\n",
    "410.50\n",
    "410.51\n",
    "410.60\n",
    "410.61\n",
    "410.70\n",
    "410.71\n",
    "410.80\n",
    "410.81\n",
    "410.90\n",
    "410.91"
   ]
  },
  {
   "cell_type": "code",
   "execution_count": 66,
   "id": "b0124951",
   "metadata": {},
   "outputs": [
    {
     "name": "stdout",
     "output_type": "stream",
     "text": [
      "['410.00', '410.01', '410.10', '410.11', '410.20', '410.21', '410.30', '410.31', '410.40', '410.41', '410.50', '410.51', '410.60', '410.61', '410.70', '410.71', '410.80', '410.81', '410.90', '410.91']\n"
     ]
    }
   ],
   "source": [
    "#step one go ahead and copy \n",
    "\n",
    "icd_codes = '410.00 410.01 410.10 410.11 410.20 410.21 410.30 410.31 410.40 410.41 410.50 410.51 410.60 410.61 410.70 410.71 410.80 410.81 410.90 410.91'\n",
    "\n",
    "icd_codes_list = icd_codes.split()\n",
    "print(icd_codes_list)\n",
    "edited_icd_list = []\n",
    "for i in icd_codes_list:\n",
    "    edited_icd_list.append(\"'\"+i.replace('.','')+\"'\")"
   ]
  },
  {
   "cell_type": "code",
   "execution_count": 67,
   "id": "e99b21fd",
   "metadata": {},
   "outputs": [
    {
     "name": "stdout",
     "output_type": "stream",
     "text": [
      "[\"'41000'\", \"'41001'\", \"'41010'\", \"'41011'\", \"'41020'\", \"'41021'\", \"'41030'\", \"'41031'\", \"'41040'\", \"'41041'\", \"'41050'\", \"'41051'\", \"'41060'\", \"'41061'\", \"'41070'\", \"'41071'\", \"'41080'\", \"'41081'\", \"'41090'\", \"'41091'\"]\n"
     ]
    }
   ],
   "source": [
    "print(edited_icd_list)\n",
    "edited_icd_list = \", \".join(edited_icd_list)"
   ]
  },
  {
   "cell_type": "code",
   "execution_count": 68,
   "id": "c1da7ca0",
   "metadata": {},
   "outputs": [
    {
     "data": {
      "text/plain": [
       "\"select * from data_warehouse.claim_diag where diag_cd in ('41000', '41001', '41010', '41011', '41020', '41021', '41030', '41031', '41040', '41041', '41050', '41051', '41060', '41061', '41070', '41071', '41080', '41081', '41090', '41091');\""
      ]
     },
     "execution_count": 68,
     "metadata": {},
     "output_type": "execute_result"
    }
   ],
   "source": [
    "#make sql\n",
    "\n",
    "sql_string = f'''select * from data_warehouse.claim_diag where diag_cd in ({edited_icd_list});'''\n",
    "sql_string"
   ]
  },
  {
   "cell_type": "markdown",
   "id": "37de13f1",
   "metadata": {},
   "source": [
    "## List Comprehensions"
   ]
  },
  {
   "cell_type": "code",
   "execution_count": 69,
   "id": "b54ab63f",
   "metadata": {},
   "outputs": [
    {
     "data": {
      "text/plain": [
       "[0, 1, 2, 3, 4, 5, 6, 7, 8, 9]"
      ]
     },
     "execution_count": 69,
     "metadata": {},
     "output_type": "execute_result"
    }
   ],
   "source": [
    "[i for i in range(10)]"
   ]
  },
  {
   "cell_type": "code",
   "execution_count": 70,
   "id": "bc9de5cc",
   "metadata": {},
   "outputs": [
    {
     "data": {
      "text/plain": [
       "[1, 3, 5, 7, 9]"
      ]
     },
     "execution_count": 70,
     "metadata": {},
     "output_type": "execute_result"
    }
   ],
   "source": [
    "[i for i in range(10) if i%2 ]"
   ]
  },
  {
   "cell_type": "code",
   "execution_count": 179,
   "id": "e5f60d04",
   "metadata": {},
   "outputs": [
    {
     "data": {
      "text/plain": [
       "[[0, 0, 0, 0, 0, 0, 0, 0, 0, 0],\n",
       " [0, 1, 2, 3, 4, 5, 6, 7, 8, 9],\n",
       " [0, 2, 4, 6, 8, 10, 12, 14, 16, 18],\n",
       " [0, 3, 6, 9, 12, 15, 18, 21, 24, 27],\n",
       " [0, 4, 8, 12, 16, 20, 24, 28, 32, 36],\n",
       " [0, 5, 10, 15, 20, 25, 30, 35, 40, 45],\n",
       " [0, 6, 12, 18, 24, 30, 36, 42, 48, 54],\n",
       " [0, 7, 14, 21, 28, 35, 42, 49, 56, 63],\n",
       " [0, 8, 16, 24, 32, 40, 48, 56, 64, 72],\n",
       " [0, 9, 18, 27, 36, 45, 54, 63, 72, 81]]"
      ]
     },
     "execution_count": 179,
     "metadata": {},
     "output_type": "execute_result"
    }
   ],
   "source": [
    "[[j*x for x in range(10)]for j in range(10)]"
   ]
  },
  {
   "cell_type": "markdown",
   "id": "abea6241",
   "metadata": {},
   "source": [
    "## Dictionary\n",
    "\n",
    "key value store"
   ]
  },
  {
   "cell_type": "code",
   "execution_count": 158,
   "id": "4720c931",
   "metadata": {},
   "outputs": [
    {
     "data": {
      "text/plain": [
       "1"
      ]
     },
     "execution_count": 158,
     "metadata": {},
     "output_type": "execute_result"
    }
   ],
   "source": [
    "example_dict = {'a':1, 'b': 2, 'c':3}\n",
    "example_dict['a']"
   ]
  },
  {
   "cell_type": "code",
   "execution_count": 159,
   "id": "4520f91f",
   "metadata": {},
   "outputs": [
    {
     "data": {
      "text/plain": [
       "23"
      ]
     },
     "execution_count": 159,
     "metadata": {},
     "output_type": "execute_result"
    }
   ],
   "source": [
    "example_dict['b'] = 23\n",
    "example_dict['b']"
   ]
  },
  {
   "cell_type": "code",
   "execution_count": 160,
   "id": "9f6fd62a",
   "metadata": {},
   "outputs": [
    {
     "data": {
      "text/plain": [
       "2"
      ]
     },
     "execution_count": 160,
     "metadata": {},
     "output_type": "execute_result"
    }
   ],
   "source": [
    "example_dict['a'] += 1\n",
    "example_dict['a']"
   ]
  },
  {
   "cell_type": "code",
   "execution_count": 161,
   "id": "057ff28b",
   "metadata": {},
   "outputs": [
    {
     "data": {
      "text/plain": [
       "dict_keys(['a', 'b', 'c'])"
      ]
     },
     "execution_count": 161,
     "metadata": {},
     "output_type": "execute_result"
    }
   ],
   "source": [
    "example_dict.keys()"
   ]
  },
  {
   "cell_type": "code",
   "execution_count": 39,
   "id": "3fcc1cb8",
   "metadata": {},
   "outputs": [
    {
     "data": {
      "text/plain": [
       "{'o': 2,\n",
       " 'n': 2,\n",
       " 'c': 2,\n",
       " 'e': 7,\n",
       " ' ': 9,\n",
       " 'u': 1,\n",
       " 'p': 2,\n",
       " 'a': 7,\n",
       " 't': 3,\n",
       " 'i': 2,\n",
       " 'm': 1,\n",
       " 'h': 1,\n",
       " 'r': 2,\n",
       " 'w': 1,\n",
       " 's': 3,\n",
       " 'v': 1,\n",
       " 'y': 1,\n",
       " 'l': 1,\n",
       " 'd': 1,\n",
       " 'b': 1}"
      ]
     },
     "execution_count": 39,
     "metadata": {},
     "output_type": "execute_result"
    }
   ],
   "source": [
    "char_counter = {}\n",
    "string_example = 'once upon a time there was a very special database'\n",
    "for i in string_example:\n",
    "    #if i is in the keys increment else make a new key and set to 1\n",
    "    if i in char_counter.keys():\n",
    "        char_counter[i] += 1\n",
    "    else:\n",
    "        char_counter[i] = 1\n",
    "        \n",
    "char_counter\n"
   ]
  },
  {
   "cell_type": "code",
   "execution_count": 40,
   "id": "d7bb4847",
   "metadata": {},
   "outputs": [
    {
     "data": {
      "text/plain": [
       "Counter({'o': 2,\n",
       "         'n': 2,\n",
       "         'c': 2,\n",
       "         'e': 7,\n",
       "         ' ': 9,\n",
       "         'u': 1,\n",
       "         'p': 2,\n",
       "         'a': 7,\n",
       "         't': 3,\n",
       "         'i': 2,\n",
       "         'm': 1,\n",
       "         'h': 1,\n",
       "         'r': 2,\n",
       "         'w': 1,\n",
       "         's': 3,\n",
       "         'v': 1,\n",
       "         'y': 1,\n",
       "         'l': 1,\n",
       "         'd': 1,\n",
       "         'b': 1})"
      ]
     },
     "execution_count": 40,
     "metadata": {},
     "output_type": "execute_result"
    }
   ],
   "source": [
    "import collections\n",
    "counter = collections.Counter(string_example)\n",
    "counter"
   ]
  },
  {
   "cell_type": "code",
   "execution_count": 41,
   "id": "a53fdb38",
   "metadata": {},
   "outputs": [
    {
     "ename": "KeyError",
     "evalue": "'x'",
     "output_type": "error",
     "traceback": [
      "\u001b[1;31m---------------------------------------------------------------------------\u001b[0m",
      "\u001b[1;31mKeyError\u001b[0m                                  Traceback (most recent call last)",
      "\u001b[1;32m<ipython-input-41-41ae2d50d094>\u001b[0m in \u001b[0;36m<module>\u001b[1;34m\u001b[0m\n\u001b[1;32m----> 1\u001b[1;33m \u001b[0mchar_counter\u001b[0m\u001b[1;33m[\u001b[0m\u001b[1;34m'x'\u001b[0m\u001b[1;33m]\u001b[0m\u001b[1;33m\u001b[0m\u001b[1;33m\u001b[0m\u001b[0m\n\u001b[0m",
      "\u001b[1;31mKeyError\u001b[0m: 'x'"
     ]
    }
   ],
   "source": [
    "char_counter['x']"
   ]
  },
  {
   "cell_type": "code",
   "execution_count": 42,
   "id": "7cb70abc",
   "metadata": {},
   "outputs": [
    {
     "data": {
      "text/plain": [
       "0"
      ]
     },
     "execution_count": 42,
     "metadata": {},
     "output_type": "execute_result"
    }
   ],
   "source": [
    "counter['x']"
   ]
  },
  {
   "cell_type": "markdown",
   "id": "64a728b7",
   "metadata": {},
   "source": [
    "# Sets"
   ]
  },
  {
   "cell_type": "code",
   "execution_count": 30,
   "id": "384b7fe1",
   "metadata": {},
   "outputs": [
    {
     "name": "stdout",
     "output_type": "stream",
     "text": [
      "{1, 2, 3, 4}\n",
      "{1, 4}\n"
     ]
    }
   ],
   "source": [
    "set_a = {1,2,3}\n",
    "set_b = {2,3,4,4}\n",
    "print(set_b)\n"
   ]
  },
  {
   "cell_type": "code",
   "execution_count": 32,
   "id": "091a044b",
   "metadata": {},
   "outputs": [
    {
     "name": "stdout",
     "output_type": "stream",
     "text": [
      "{1, 2, 3, 4}\n"
     ]
    }
   ],
   "source": [
    "#union \n",
    "print(set_a.union(set_b))"
   ]
  },
  {
   "cell_type": "code",
   "execution_count": 33,
   "id": "fe39c15b",
   "metadata": {},
   "outputs": [
    {
     "name": "stdout",
     "output_type": "stream",
     "text": [
      "{1, 4}\n"
     ]
    }
   ],
   "source": [
    "#symmetric difference\n",
    "print(set_a^set_b)"
   ]
  },
  {
   "cell_type": "code",
   "execution_count": 34,
   "id": "25b6e5b3",
   "metadata": {},
   "outputs": [
    {
     "data": {
      "text/plain": [
       "{1}"
      ]
     },
     "execution_count": 34,
     "metadata": {},
     "output_type": "execute_result"
    }
   ],
   "source": [
    "set_a.difference(set_b)"
   ]
  },
  {
   "cell_type": "code",
   "execution_count": 37,
   "id": "da739b8e",
   "metadata": {},
   "outputs": [
    {
     "data": {
      "text/plain": [
       "True"
      ]
     },
     "execution_count": 37,
     "metadata": {},
     "output_type": "execute_result"
    }
   ],
   "source": [
    "set_c = {1}\n",
    "\n",
    "set_c.issubset(set_a)"
   ]
  }
 ],
 "metadata": {
  "kernelspec": {
   "display_name": "Python 3",
   "language": "python",
   "name": "python3"
  },
  "language_info": {
   "codemirror_mode": {
    "name": "ipython",
    "version": 3
   },
   "file_extension": ".py",
   "mimetype": "text/x-python",
   "name": "python",
   "nbconvert_exporter": "python",
   "pygments_lexer": "ipython3",
   "version": "3.8.8"
  }
 },
 "nbformat": 4,
 "nbformat_minor": 5
}
