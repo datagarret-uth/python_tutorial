{
 "cells": [
  {
   "cell_type": "markdown",
   "id": "480249e3",
   "metadata": {},
   "source": [
    "### Definitions"
   ]
  },
  {
   "cell_type": "code",
   "execution_count": 9,
   "id": "3aa0ba8f",
   "metadata": {},
   "outputs": [
    {
     "name": "stdout",
     "output_type": "stream",
     "text": [
      "hey\n"
     ]
    }
   ],
   "source": [
    "def helloer():\n",
    "    print('hey')\n",
    "    \n",
    "helloer()\n"
   ]
  },
  {
   "cell_type": "code",
   "execution_count": 10,
   "id": "5f419900",
   "metadata": {},
   "outputs": [
    {
     "name": "stdout",
     "output_type": "stream",
     "text": [
      "hey\n",
      "hey\n",
      "hey\n",
      "hey\n",
      "hey\n"
     ]
    }
   ],
   "source": [
    "for i in range(5):\n",
    "    helloer()"
   ]
  },
  {
   "cell_type": "code",
   "execution_count": 38,
   "id": "23aa8ade",
   "metadata": {},
   "outputs": [
    {
     "data": {
      "text/plain": [
       "2"
      ]
     },
     "execution_count": 38,
     "metadata": {},
     "output_type": "execute_result"
    }
   ],
   "source": [
    "def incrementer(val):\n",
    "    return val + 1\n",
    "\n",
    "int_val = 1\n",
    "incrementer(int_val)"
   ]
  },
  {
   "cell_type": "code",
   "execution_count": 39,
   "id": "ad1135bd",
   "metadata": {},
   "outputs": [
    {
     "name": "stdout",
     "output_type": "stream",
     "text": [
      "0 \n",
      "1 \n",
      "1 \n",
      "2 \n",
      "3 \n",
      "5 \n",
      "8 \n"
     ]
    }
   ],
   "source": [
    "def fib(n):    # write Fibonacci series up to n\n",
    "    \"\"\"Print a Fibonacci series up to n.\"\"\"\n",
    "    a, b = 0, 1\n",
    "    while a < n:\n",
    "        print(a, end=' ')\n",
    "        a, b = b, a+b\n",
    "        print()\n",
    "        \n",
    "fib(10)"
   ]
  },
  {
   "cell_type": "code",
   "execution_count": 40,
   "id": "9e142a3e",
   "metadata": {},
   "outputs": [
    {
     "ename": "NameError",
     "evalue": "name 'b' is not defined",
     "output_type": "error",
     "traceback": [
      "\u001b[1;31m---------------------------------------------------------------------------\u001b[0m",
      "\u001b[1;31mNameError\u001b[0m                                 Traceback (most recent call last)",
      "\u001b[1;32m<ipython-input-40-89e6c98d9288>\u001b[0m in \u001b[0;36m<module>\u001b[1;34m\u001b[0m\n\u001b[1;32m----> 1\u001b[1;33m \u001b[0mb\u001b[0m\u001b[1;33m\u001b[0m\u001b[1;33m\u001b[0m\u001b[0m\n\u001b[0m",
      "\u001b[1;31mNameError\u001b[0m: name 'b' is not defined"
     ]
    }
   ],
   "source": [
    "b"
   ]
  },
  {
   "cell_type": "markdown",
   "id": "9419434f",
   "metadata": {},
   "source": [
    "## More practial example\n"
   ]
  },
  {
   "cell_type": "code",
   "execution_count": 32,
   "id": "c5d3a213",
   "metadata": {},
   "outputs": [],
   "source": [
    "def rev_expander(rev_cd):\n",
    "    \n",
    "    #total list of output_revenue codes\n",
    "    output_rev = []\n",
    "    rev_cd = rev_cd.zfill(4)\n",
    "    if '-' in rev_cd:\n",
    "        rev_split = rev_cd.split('-')\n",
    "        for i in range(int(rev_split[0]), int(rev_split[1])+1):\n",
    "            output_rev.append(str(i).zfill(4))\n",
    "    elif 'x' in rev_cd:\n",
    "        x_loc = rev_cd.find('x')\n",
    "        if x_loc==3:\n",
    "            output_rev = [rev_cd[:x_loc] + str(i) for i in range(0,10)]\n",
    "        elif x_loc==2:\n",
    "            output_rev = [rev_cd[:x_loc] + str(i).zfill(2) for i in range(0,100)]\n",
    "    else:\n",
    "        output_rev.append(rev_cd)\n",
    "    return output_rev"
   ]
  },
  {
   "cell_type": "code",
   "execution_count": 33,
   "id": "bb9a8c1a",
   "metadata": {},
   "outputs": [
    {
     "data": {
      "text/plain": [
       "['0450', '0451', '0452']"
      ]
     },
     "execution_count": 33,
     "metadata": {},
     "output_type": "execute_result"
    }
   ],
   "source": [
    "rev_expander('450-452')"
   ]
  },
  {
   "cell_type": "code",
   "execution_count": 34,
   "id": "3d9185ed",
   "metadata": {},
   "outputs": [
    {
     "data": {
      "text/plain": [
       "['0400',\n",
       " '0401',\n",
       " '0402',\n",
       " '0403',\n",
       " '0404',\n",
       " '0405',\n",
       " '0406',\n",
       " '0407',\n",
       " '0408',\n",
       " '0409',\n",
       " '0410',\n",
       " '0411',\n",
       " '0412',\n",
       " '0413',\n",
       " '0414',\n",
       " '0415',\n",
       " '0416',\n",
       " '0417',\n",
       " '0418',\n",
       " '0419',\n",
       " '0420',\n",
       " '0421',\n",
       " '0422',\n",
       " '0423',\n",
       " '0424',\n",
       " '0425',\n",
       " '0426',\n",
       " '0427',\n",
       " '0428',\n",
       " '0429',\n",
       " '0430',\n",
       " '0431',\n",
       " '0432',\n",
       " '0433',\n",
       " '0434',\n",
       " '0435',\n",
       " '0436',\n",
       " '0437',\n",
       " '0438',\n",
       " '0439',\n",
       " '0440',\n",
       " '0441',\n",
       " '0442',\n",
       " '0443',\n",
       " '0444',\n",
       " '0445',\n",
       " '0446',\n",
       " '0447',\n",
       " '0448',\n",
       " '0449',\n",
       " '0450',\n",
       " '0451',\n",
       " '0452',\n",
       " '0453',\n",
       " '0454',\n",
       " '0455',\n",
       " '0456',\n",
       " '0457',\n",
       " '0458',\n",
       " '0459',\n",
       " '0460',\n",
       " '0461',\n",
       " '0462',\n",
       " '0463',\n",
       " '0464',\n",
       " '0465',\n",
       " '0466',\n",
       " '0467',\n",
       " '0468',\n",
       " '0469',\n",
       " '0470',\n",
       " '0471',\n",
       " '0472',\n",
       " '0473',\n",
       " '0474',\n",
       " '0475',\n",
       " '0476',\n",
       " '0477',\n",
       " '0478',\n",
       " '0479',\n",
       " '0480',\n",
       " '0481',\n",
       " '0482',\n",
       " '0483',\n",
       " '0484',\n",
       " '0485',\n",
       " '0486',\n",
       " '0487',\n",
       " '0488',\n",
       " '0489',\n",
       " '0490',\n",
       " '0491',\n",
       " '0492',\n",
       " '0493',\n",
       " '0494',\n",
       " '0495',\n",
       " '0496',\n",
       " '0497',\n",
       " '0498',\n",
       " '0499']"
      ]
     },
     "execution_count": 34,
     "metadata": {},
     "output_type": "execute_result"
    }
   ],
   "source": [
    "rev_expander('4xx')"
   ]
  },
  {
   "cell_type": "code",
   "execution_count": null,
   "id": "39af26b9",
   "metadata": {},
   "outputs": [],
   "source": []
  }
 ],
 "metadata": {
  "kernelspec": {
   "display_name": "Python 3",
   "language": "python",
   "name": "python3"
  },
  "language_info": {
   "codemirror_mode": {
    "name": "ipython",
    "version": 3
   },
   "file_extension": ".py",
   "mimetype": "text/x-python",
   "name": "python",
   "nbconvert_exporter": "python",
   "pygments_lexer": "ipython3",
   "version": "3.8.8"
  }
 },
 "nbformat": 4,
 "nbformat_minor": 5
}
